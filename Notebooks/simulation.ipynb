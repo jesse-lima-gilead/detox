{
 "cells": [
  {
   "cell_type": "code",
   "execution_count": null,
   "id": "eb537b4a",
   "metadata": {},
   "outputs": [
    {
     "name": "stdout",
     "output_type": "stream",
     "text": [
      "Simulation 1, next step = 18s\n",
      "Simulation 2, next step = 11s\n",
      "Simulation 3, next step = 6s\n"
     ]
    }
   ],
   "source": [
    "import os\n",
    "os.environ[\"SPARK_VERSION\"] = \"3.3\"  # Change this to your version if needed\n",
    "\n",
    "import pydeequ\n",
    "from pyspark.sql import SparkSession\n",
    "\n",
    "import time\n",
    "import random\n",
    "import boto3\n",
    "\n",
    "if __name__ == \"__main__\":\n",
    "    from detox.data_processing import create_data_table, bump_df\n",
    "    from detox.data_quality import pydeequ_check\n",
    "    from detox.aws_logging import log_data_quality\n",
    "\n",
    "    # Initialize Spark session with Deequ package\n",
    "    spark = (SparkSession\n",
    "            .builder\n",
    "            .config(\"spark.jars.packages\", pydeequ.deequ_maven_coord)\n",
    "            .config(\"spark.jars.excludes\", pydeequ.f2j_maven_coord)\n",
    "            .getOrCreate())\n",
    "    \n",
    "    # Create a session with your access keys\n",
    "    os.environ['AWS_SHARED_CREDENTIALS_FILE'] = '.aws/credentials'\n",
    "    #session = boto3.Session(region_name='us-east-1')\n",
    "    session = boto3.Session(profile_name='hackathon', region_name='us-west-2')\n",
    "\n",
    "    # Create a CloudWatch Logs client\n",
    "    client = session.client('logs')\n",
    "\n",
    "    # Set log group and log stream for our experiment\n",
    "    log_group = 'hackathon'\n",
    "    log_stream = 'detox_usecase'\n",
    "    \n",
    "    # Create 100 simulations and log results to CloudWatch\n",
    "    for i in range(1,1000):\n",
    "        df = create_data_table(spark)\n",
    "        bdf = bump_df(df, spark)\n",
    "        json_result = pydeequ_check(bdf, spark)\n",
    "        #df_result.show()\n",
    "\n",
    "        log_data_quality(json_result, client, log_group, log_stream)\n",
    "\n",
    "        # Waits between 1 and 5 seconds until next simulation\n",
    "        delay =random.randint(1,30)\n",
    "        print(f\"Simulation {i}, next step = {delay}s\")\n",
    "        time.sleep(delay)\n"
   ]
  },
  {
   "cell_type": "code",
   "execution_count": null,
   "id": "aa13b046",
   "metadata": {},
   "outputs": [],
   "source": []
  }
 ],
 "metadata": {
  "kernelspec": {
   "display_name": "Python 3 (ipykernel)",
   "language": "python",
   "name": "python3"
  },
  "language_info": {
   "codemirror_mode": {
    "name": "ipython",
    "version": 3
   },
   "file_extension": ".py",
   "mimetype": "text/x-python",
   "name": "python",
   "nbconvert_exporter": "python",
   "pygments_lexer": "ipython3",
   "version": "3.9.2"
  }
 },
 "nbformat": 4,
 "nbformat_minor": 5
}
