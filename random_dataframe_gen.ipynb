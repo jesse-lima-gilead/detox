{
 "cells": [
  {
   "cell_type": "code",
   "execution_count": null,
   "metadata": {
    "application/vnd.databricks.v1+cell": {
     "cellMetadata": {
      "byteLimit": 2048000,
      "rowLimit": 10000
     },
     "inputWidgets": {},
     "nuid": "bc13200e-6d5e-4ce9-8dd0-097da49a7baf",
     "showTitle": false,
     "title": ""
    }
   },
   "outputs": [
    {
     "data": {
      "text/html": [
       "<style scoped>\n",
       "  .table-result-container {\n",
       "    max-height: 300px;\n",
       "    overflow: auto;\n",
       "  }\n",
       "  table, th, td {\n",
       "    border: 1px solid black;\n",
       "    border-collapse: collapse;\n",
       "  }\n",
       "  th, td {\n",
       "    padding: 5px;\n",
       "  }\n",
       "  th {\n",
       "    text-align: left;\n",
       "  }\n",
       "</style><div class='table-result-container'><table class='table-result'><thead style='background-color: white'><tr><th>Scores</th><th>Temperature</th><th>RandomValues</th><th>NormallyDistributed</th></tr></thead><tbody><tr><td>4</td><td>27</td><td>0.12959752086681486</td><td>8.7034692153956</td></tr><tr><td>7</td><td>34</td><td>0.7488758956607862</td><td>1.620023800357206</td></tr><tr><td>7</td><td>26</td><td>0.15920757562804455</td><td>13.73024075661889</td></tr><tr><td>9</td><td>3</td><td>0.7775095147382248</td><td>9.67636188074</td></tr><tr><td>5</td><td>8</td><td>0.7017651803583728</td><td>7.420819000701719</td></tr><tr><td>0</td><td>-5</td><td>0.6119479901576232</td><td>12.764859966321602</td></tr><tr><td>7</td><td>41</td><td>null</td><td>2.5811524268167725</td></tr><tr><td>0</td><td>8</td><td>0.2522524487127623</td><td>13.786078478412826</td></tr><tr><td>8</td><td>7</td><td>0.44813860994024324</td><td>6.153746727656905</td></tr><tr><td>3</td><td>-8</td><td>0.5925113236249887</td><td>9.345779933599673</td></tr></tbody></table></div>"
      ]
     },
     "metadata": {
      "application/vnd.databricks.v1+output": {
       "addedWidgets": {},
       "aggData": [],
       "aggError": "",
       "aggOverflow": false,
       "aggSchema": [],
       "aggSeriesLimitReached": false,
       "aggType": "",
       "arguments": {},
       "columnCustomDisplayInfos": {},
       "data": [
        [
         4,
         27,
         0.12959752086681486,
         8.7034692153956
        ],
        [
         7,
         34,
         0.7488758956607862,
         1.620023800357206
        ],
        [
         7,
         26,
         0.15920757562804455,
         13.73024075661889
        ],
        [
         9,
         3,
         0.7775095147382248,
         9.67636188074
        ],
        [
         5,
         8,
         0.7017651803583728,
         7.420819000701719
        ],
        [
         0,
         -5,
         0.6119479901576232,
         12.764859966321602
        ],
        [
         7,
         41,
         null,
         2.5811524268167725
        ],
        [
         0,
         8,
         0.2522524487127623,
         13.786078478412826
        ],
        [
         8,
         7,
         0.44813860994024324,
         6.153746727656905
        ],
        [
         3,
         -8,
         0.5925113236249887,
         9.345779933599673
        ]
       ],
       "datasetInfos": [],
       "dbfsResultPath": null,
       "isJsonSchema": true,
       "metadata": {},
       "overflow": false,
       "plotOptions": {
        "customPlotOptions": {},
        "displayType": "table",
        "pivotAggregation": null,
        "pivotColumns": null,
        "xColumns": null,
        "yColumns": null
       },
       "removedWidgets": [],
       "schema": [
        {
         "metadata": "{}",
         "name": "Scores",
         "type": "\"long\""
        },
        {
         "metadata": "{}",
         "name": "Temperature",
         "type": "\"long\""
        },
        {
         "metadata": "{}",
         "name": "RandomValues",
         "type": "\"double\""
        },
        {
         "metadata": "{}",
         "name": "NormallyDistributed",
         "type": "\"double\""
        }
       ],
       "type": "table"
      }
     },
     "output_type": "display_data"
    }
   ],
   "source": [
    "import random\n",
    "import time\n",
    "from pyspark.sql import SparkSession\n",
    "\n",
    "def create_data_table():\n",
    "    \"\"\"\n",
    "    Generate a DataFrame containing randomly generated data.\n",
    "\n",
    "    The DataFrame will have the following columns:\n",
    "    - 'Scores': Random integers between 0 and 10.\n",
    "    - 'Temperature': Random integers between -10 and 50.\n",
    "    - 'RandomValues': Random floating-point numbers between 0 and 1, with some values randomly set to None (NaN).\n",
    "    - 'NormallyDistributed': Random values generated from a normal distribution with a mean of 10 and a standard deviation of 4.\n",
    "\n",
    "    Returns:\n",
    "    DataFrame: A PySpark DataFrame containing the generated data with four columns.\n",
    "    \"\"\"\n",
    "    num_rows = 200\n",
    "    scores = [random.randint(0, 10) for _ in range(num_rows)]\n",
    "    temperature = [random.randint(-10, 50) for _ in range(num_rows)]\n",
    "    random_values = [random.uniform(0, 1) for _ in range(num_rows)]\n",
    "\n",
    "    # Randomly set 1 to 3 values to None (NaN)\n",
    "    for _ in range(random.randint(1, 3)):\n",
    "        index = random.randint(0, num_rows - 1)\n",
    "        random_values[index] = None\n",
    "\n",
    "    normally_distributed = [random.gauss(10, 4) for _ in range(num_rows)]\n",
    "\n",
    "    # Create a DataFrame\n",
    "    data = {\n",
    "        'Scores': scores,\n",
    "        'Temperature': temperature,\n",
    "        'RandomValues': random_values,\n",
    "        'NormallyDistributed': normally_distributed\n",
    "    }\n",
    "    \n",
    "    # Convert to DataFrame\n",
    "    df = spark.createDataFrame([(s, t, r, n) for s, t, r, n in zip(scores, temperature, random_values, normally_distributed)],\n",
    "                                schema=['Scores', 'Temperature', 'RandomValues', 'NormallyDistributed'])\n",
    "    return df\n",
    "\n",
    "# Main loop to generate data every 3 minutes\n",
    "while True:\n",
    "    # Create the data table\n",
    "    data_table = create_data_table()\n",
    "    # Show the DataFrame\n",
    "    display(data_table)\n",
    "    # Wait for 3 minutes (180 seconds)\n",
    "    #time.sleep(1)\n",
    "    break"
   ]
  }
 ],
 "metadata": {
  "application/vnd.databricks.v1+notebook": {
   "dashboards": [],
   "environmentMetadata": null,
   "language": "python",
   "notebookMetadata": {
    "pythonIndentUnit": 4
   },
   "notebookName": "random_dataframe_gen",
   "widgets": {}
  },
  "language_info": {
   "name": "python"
  }
 },
 "nbformat": 4,
 "nbformat_minor": 0
}
