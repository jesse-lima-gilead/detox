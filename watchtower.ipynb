{
 "cells": [
  {
   "cell_type": "code",
   "execution_count": null,
   "metadata": {
    "application/vnd.databricks.v1+cell": {
     "cellMetadata": {
      "byteLimit": 2048000,
      "rowLimit": 10000
     },
     "inputWidgets": {},
     "nuid": "ff0a4b73-c193-49e1-96c8-9c0d8a35d1cd",
     "showTitle": false,
     "title": ""
    }
   },
   "outputs": [
    {
     "name": "stdout",
     "output_type": "stream",
     "text": [
      "Collecting watchtower\r\n",
      "  Downloading watchtower-3.3.1-py3-none-any.whl (18 kB)\r\n",
      "Requirement already satisfied: boto3<2,>=1.9.253 in /databricks/python3/lib/python3.9/site-packages (from watchtower) (1.21.32)\r\n",
      "Requirement already satisfied: botocore<1.25.0,>=1.24.32 in /databricks/python3/lib/python3.9/site-packages (from boto3<2,>=1.9.253->watchtower) (1.24.32)\r\n",
      "Requirement already satisfied: s3transfer<0.6.0,>=0.5.0 in /databricks/python3/lib/python3.9/site-packages (from boto3<2,>=1.9.253->watchtower) (0.5.0)\r\n",
      "Requirement already satisfied: jmespath<2.0.0,>=0.7.1 in /databricks/python3/lib/python3.9/site-packages (from boto3<2,>=1.9.253->watchtower) (0.10.0)\r\n",
      "Requirement already satisfied: python-dateutil<3.0.0,>=2.1 in /databricks/python3/lib/python3.9/site-packages (from botocore<1.25.0,>=1.24.32->boto3<2,>=1.9.253->watchtower) (2.8.2)\r\n",
      "Requirement already satisfied: urllib3<1.27,>=1.25.4 in /databricks/python3/lib/python3.9/site-packages (from botocore<1.25.0,>=1.24.32->boto3<2,>=1.9.253->watchtower) (1.26.9)\r\n",
      "Requirement already satisfied: six>=1.5 in /databricks/python3/lib/python3.9/site-packages (from python-dateutil<3.0.0,>=2.1->botocore<1.25.0,>=1.24.32->boto3<2,>=1.9.253->watchtower) (1.16.0)\r\n",
      "Installing collected packages: watchtower\r\n",
      "Successfully installed watchtower-3.3.1\r\n",
      "\u001b[33mWARNING: You are using pip version 21.2.4; however, version 24.2 is available.\r\n",
      "You should consider upgrading via the '/local_disk0/.ephemeral_nfs/envs/pythonEnv-8741e690-3f37-4ee8-a54c-a72a3f358cc4/bin/python -m pip install --upgrade pip' command.\u001b[0m\r\n"
     ]
    }
   ],
   "source": [
    "!pip install watchtower"
   ]
  },
  {
   "cell_type": "markdown",
   "metadata": {
    "application/vnd.databricks.v1+cell": {
     "cellMetadata": {},
     "inputWidgets": {},
     "nuid": "ed7ac0cb-0423-4a8a-8c02-98aede9b32b4",
     "showTitle": false,
     "title": ""
    }
   },
   "source": [
    "### Better solution"
   ]
  },
  {
   "cell_type": "code",
   "execution_count": null,
   "metadata": {
    "application/vnd.databricks.v1+cell": {
     "cellMetadata": {
      "byteLimit": 2048000,
      "rowLimit": 10000
     },
     "inputWidgets": {},
     "nuid": "9081a233-21a8-4c74-9d9f-1878bddbf166",
     "showTitle": false,
     "title": ""
    }
   },
   "outputs": [],
   "source": [
    "import boto3\n",
    "import json\n",
    "import time\n",
    "import os\n",
    "\n",
    "def create_watchtower_log(log_group_name, log_stream_name, log_message, client):\n",
    "\n",
    "    # Create the log group if it doesn't exist\n",
    "    try:\n",
    "        client.create_log_group(logGroupName=log_group_name)\n",
    "    except client.exceptions.ResourceAlreadyExistsException:\n",
    "        pass\n",
    "\n",
    "    # Create the log stream if it doesn't exist\n",
    "    try:\n",
    "        client.create_log_stream(logGroupName=log_group_name, logStreamName=log_stream_name)\n",
    "    except client.exceptions.ResourceAlreadyExistsException:\n",
    "        pass\n",
    "\n",
    "    # Get the current timestamp\n",
    "    timestamp = int(time.time() * 1000)\n",
    "\n",
    "    # Prepare the log event\n",
    "    log_event = {\n",
    "        'timestamp': timestamp,\n",
    "        'message': log_message\n",
    "    }\n",
    "\n",
    "    # Format the log event as JSON\n",
    "    json_log_event = json.dumps(log_event)\n",
    "\n",
    "    # Get the sequence token for the log stream\n",
    "    response = client.describe_log_streams(\n",
    "        logGroupName=log_group_name,\n",
    "        logStreamNamePrefix=log_stream_name\n",
    "    )\n",
    "    \n",
    "    sequence_token = response['logStreams'][0].get('uploadSequenceToken')\n",
    "\n",
    "    # Put the log event to CloudWatch\n",
    "    if sequence_token:\n",
    "        client.put_log_events(\n",
    "            logGroupName=log_group_name,\n",
    "            logStreamName=log_stream_name,\n",
    "            logEvents=[{\n",
    "                'timestamp': timestamp,\n",
    "                'message': json_log_event\n",
    "            }],\n",
    "            sequenceToken=sequence_token\n",
    "        )\n",
    "    else:\n",
    "        client.put_log_events(\n",
    "            logGroupName=log_group_name,\n",
    "            logStreamName=log_stream_name,\n",
    "            logEvents=[{\n",
    "                'timestamp': timestamp,\n",
    "                'message': json_log_event\n",
    "            }]\n",
    "        )\n",
    "\n",
    "# Example usage\n",
    "if __name__ == \"__main__\":\n",
    "\n",
    "    # Create a session with your access keys\n",
    "    session = boto3.Session(\n",
    "        aws_access_key_id='',\n",
    "        aws_secret_access_key='',\n",
    "        region_name='us-west-2'\n",
    "    )\n",
    "    # Create a CloudWatch Logs client\n",
    "    client = session.client('logs')\n",
    "\n",
    "    log_group = 'MyLogGroup'\n",
    "    log_stream = 'MyLogStream'\n",
    "    #message = 'This is a test log message'\n",
    "    message = data\n",
    "    create_watchtower_log(log_group, log_stream, message, client)\n"
   ]
  },
  {
   "cell_type": "code",
   "execution_count": null,
   "metadata": {
    "application/vnd.databricks.v1+cell": {
     "cellMetadata": {
      "byteLimit": 2048000,
      "rowLimit": 10000
     },
     "inputWidgets": {},
     "nuid": "14838038-319a-49b2-85ba-2f8eae91c122",
     "showTitle": false,
     "title": ""
    }
   },
   "outputs": [],
   "source": [
    "data = {\n",
    "    \"constraint_suggestions\": [\n",
    "        {\n",
    "            \"constraint_name\": \"ComplianceConstraint(Compliance('insight' has value range 'N', 'Y',`insight` IN ('N', 'Y'),None))\",\n",
    "            \"column_name\": \"insight\",\n",
    "            \"current_value\": \"Compliance: 1\",\n",
    "            \"description\": \"'insight' has value range 'N', 'Y'\",\n",
    "            \"suggesting_rule\": \"CategoricalRangeRule(com.amazon.deequ.suggestions.rules.CategoricalRangeRule$$$Lambda$4119/0x000000080197e840@74f276b0)\",\n",
    "            \"rule_description\": \"If we see a categorical range for a column, we suggest an IS IN (...) constraint\",\n",
    "            \"code_for_constraint\": \".isContainedIn(\\\"insight\\\", [\\\"N\\\", \\\"Y\\\"])\"\n",
    "        },\n",
    "        {\n",
    "            \"constraint_name\": \"CompletenessConstraint(Completeness(insight,None))\",\n",
    "            \"column_name\": \"insight\",\n",
    "            \"current_value\": \"Completeness: 1.0\",\n",
    "            \"description\": \"'insight' is not null\",\n",
    "            \"suggesting_rule\": \"CompleteIfCompleteRule()\",\n",
    "            \"rule_description\": \"If a column is complete in the sample, we suggest a NOT NULL constraint\",\n",
    "            \"code_for_constraint\": \".isComplete(\\\"insight\\\")\"\n",
    "        },\n",
    "        {\n",
    "            \"constraint_name\": \"CompletenessConstraint(Completeness(review_id,None))\",\n",
    "            \"column_name\": \"review_id\",\n",
    "            \"current_value\": \"Completeness: 1.0\",\n",
    "            \"description\": \"'review_id' is not null\",\n",
    "            \"suggesting_rule\": \"CompleteIfCompleteRule()\",\n",
    "            \"rule_description\": \"If a column is complete in the sample, we suggest a NOT NULL constraint\",\n",
    "            \"code_for_constraint\": \".isComplete(\\\"review_id\\\")\"\n",
    "        }\n",
    "    ]\n",
    "}"
   ]
  },
  {
   "cell_type": "code",
   "execution_count": null,
   "metadata": {
    "application/vnd.databricks.v1+cell": {
     "cellMetadata": {
      "byteLimit": 2048000,
      "rowLimit": 10000
     },
     "inputWidgets": {},
     "nuid": "8185650f-ae2c-4695-a2ca-4322e1dd7526",
     "showTitle": false,
     "title": ""
    }
   },
   "outputs": [
    {
     "name": "stdout",
     "output_type": "stream",
     "text": [
      "Out[6]: {'constraint_suggestions': [{'constraint_name': \"ComplianceConstraint(Compliance('insight' has value range 'N', 'Y',`insight` IN ('N', 'Y'),None))\",\n",
      "   'column_name': 'insight',\n",
      "   'current_value': 'Compliance: 1',\n",
      "   'description': \"'insight' has value range 'N', 'Y'\",\n",
      "   'suggesting_rule': 'CategoricalRangeRule(com.amazon.deequ.suggestions.rules.CategoricalRangeRule$$$Lambda$4119/0x000000080197e840@74f276b0)',\n",
      "   'rule_description': 'If we see a categorical range for a column, we suggest an IS IN (...) constraint',\n",
      "   'code_for_constraint': '.isContainedIn(\"insight\", [\"N\", \"Y\"])'},\n",
      "  {'constraint_name': 'CompletenessConstraint(Completeness(insight,None))',\n",
      "   'column_name': 'insight',\n",
      "   'current_value': 'Completeness: 1.0',\n",
      "   'description': \"'insight' is not null\",\n",
      "   'suggesting_rule': 'CompleteIfCompleteRule()',\n",
      "   'rule_description': 'If a column is complete in the sample, we suggest a NOT NULL constraint',\n",
      "   'code_for_constraint': '.isComplete(\"insight\")'},\n",
      "  {'constraint_name': 'CompletenessConstraint(Completeness(review_id,None))',\n",
      "   'column_name': 'review_id',\n",
      "   'current_value': 'Completeness: 1.0',\n",
      "   'description': \"'review_id' is not null\",\n",
      "   'suggesting_rule': 'CompleteIfCompleteRule()',\n",
      "   'rule_description': 'If a column is complete in the sample, we suggest a NOT NULL constraint',\n",
      "   'code_for_constraint': '.isComplete(\"review_id\")'}]}"
     ]
    }
   ],
   "source": [
    "data"
   ]
  }
 ],
 "metadata": {
  "application/vnd.databricks.v1+notebook": {
   "dashboards": [],
   "environmentMetadata": null,
   "language": "python",
   "notebookMetadata": {
    "pythonIndentUnit": 4
   },
   "notebookName": "watchtower",
   "widgets": {}
  },
  "language_info": {
   "name": "python"
  }
 },
 "nbformat": 4,
 "nbformat_minor": 0
}
